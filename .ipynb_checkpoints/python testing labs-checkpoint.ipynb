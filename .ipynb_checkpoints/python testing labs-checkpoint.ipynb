{
 "cells": [
  {
   "cell_type": "code",
   "execution_count": 49,
   "metadata": {
    "collapsed": false
   },
   "outputs": [
    {
     "name": "stdout",
     "output_type": "stream",
     "text": [
      "{'AC51002': 'Software Development', 'AC52009': 'Secure Internet Programming', 'AC51003': 'Software Engineering', 'AC52008': 'Research Frontiers (Computing)', 'AC52002': 'Advanced Programming Techniques', 'AC52012': 'Research Methods', 'AC52013': 'Human Computer Interaction and Usability Engineering', 'AC51011': 'Big Data Analysis', 'AC50001': 'Introduction to Data Mining', 'AC51008': 'Graphics', 'AC52001': 'Database Systems', 'AC51009': 'Multimedia Audio', 'AC51001': 'Internet and Computer Systems', 'AC51005': 'Technology Innovation Management', 'AC51004': 'Agile Engineering', 'AC51007': 'Computer Vision', 'AC50002': 'Programming Languages for Data Engineering', 'AC51010': 'Computing the User Experience'}\n"
     ]
    }
   ],
   "source": [
    "def isModuleCode(string):\n",
    "    '''\n",
    "    check is module code format correct\n",
    "    '''\n",
    "    if len(string) != 7:\n",
    "        return False\n",
    "    elif (not string[0:2].isalpha() or not string[2:].isnumeric()):\n",
    "        return False\n",
    "    else:\n",
    "        return True\n",
    "\n",
    "def readlist():\n",
    "    '''\n",
    "    read list of modules and create a dictionary with \n",
    "    codes as keys and titles as values\n",
    "    - check there at least two words each line\n",
    "    - first word is a module code\n",
    "    '''\n",
    "    dirpath = 'U:/Documents/Data Programming/'\n",
    "    f = dirpath + \"modules.txt\"\n",
    "   \n",
    "    fobj = open(f)\n",
    "    content = fobj.readlines()\n",
    "   \n",
    "    mydict = {}\n",
    "    for line in content:\n",
    "        \n",
    "        line = line.rstrip()\n",
    "        pieces = line.split(\" \", 1)\n",
    "        if len(pieces) < 2:\n",
    "            raise ValueError('Invalid Line')  \n",
    "        elif not isModuleCode(pieces[0]):\n",
    "            raise ValueError('Invalid Module Code Format')\n",
    "        else:\n",
    "            # we keep the module line\n",
    "            mydict[pieces[0]] = pieces[1]\n",
    "        \n",
    "    return mydict\n",
    "\n",
    "print(readlist())\n"
   ]
  },
  {
   "cell_type": "code",
   "execution_count": 76,
   "metadata": {
    "collapsed": false
   },
   "outputs": [
    {
     "name": "stdout",
     "output_type": "stream",
     "text": [
      "3\n",
      "1\n",
      "1. monkey\n",
      "2. cat\n",
      "3. elephant\n"
     ]
    }
   ],
   "source": [
    "def printstrings0(listStrings):\n",
    "    '''\n",
    "    take a list of strings as args and print as a numbered list\n",
    "    '''\n",
    "    space = str(len(listStrings))\n",
    "    print(space)\n",
    "    lenSpace = str(len(space))\n",
    "    print(lenSpace)\n",
    "\n",
    "    for i in range(0, len(listStrings)):\n",
    "        print(('{:'+lenSpace+'d}. {}').format(i+1, listStrings[i]))\n",
    "        \n",
    "        \n",
    "\n",
    "printstrings0(['monkey','cat','elephant'])\n",
    "#printstrings0(['monkey','cat','elephant'])\n",
    "\n",
    "# exp: 1. monkey\n",
    "# 2. cat \n",
    "# 3. elephant\n"
   ]
  },
  {
   "cell_type": "code",
   "execution_count": 62,
   "metadata": {
    "collapsed": false
   },
   "outputs": [
    {
     "name": "stdout",
     "output_type": "stream",
     "text": [
      "1\n",
      "3\n",
      "9\n",
      "27\n"
     ]
    }
   ],
   "source": [
    "def expgen(k):\n",
    "    '''\n",
    "    take arg k to generate successive \n",
    "    powers of k e.g. for \n",
    "    '''\n",
    "    yield 1\n",
    "    total = 1\n",
    "    while True:\n",
    "       total = total * k\n",
    "       yield(total)\n",
    "    \n",
    "it = iter(expgen(3))\n",
    "\n",
    "print(next(it))\n",
    "print(next(it))\n",
    "print(next(it))\n",
    "print(next(it))\n",
    "# gen(3)\n",
    "# exp: 1,3,9,27"
   ]
  },
  {
   "cell_type": "code",
   "execution_count": 42,
   "metadata": {
    "collapsed": false
   },
   "outputs": [
    {
     "name": "stdout",
     "output_type": "stream",
     "text": [
      "[7, 14, 21, 28, 35, 42, 49, 56, 63, 70, 77, 84, 91, 98]\n",
      "[7, 14, 21, 28, 35, 42, 49, 56, 63, 70, 77, 84, 91, 98]\n",
      "{'cat': 'fish', 'dog': 'bone', 'mouse': 'cheese'}\n"
     ]
    }
   ],
   "source": [
    "output7 = [sevenFactor for sevenFactor in range(1,100) if not(sevenFactor % 7)]\n",
    "# expected [7, 14, 21, 28, 35, 42, 49, 56, 63, 70, 77, 84, 91, 98]\n",
    "print(output7) \n",
    "\n",
    "\n",
    "# use map to generate all 7 multiples up to 100\n",
    "upper = 100\n",
    "factor = 7\n",
    "import math\n",
    "output = map(lambda x : x * 7, range(1, math.ceil(upper/factor)) )\n",
    "print(list(output))\n",
    "\n",
    "\n",
    "# nice: http://www.bogotobogo.com/python/python_dictionary_comprehension_with_zip_from_list.php\n",
    "# keys values\n",
    "# dict(zip(keys,values))\n",
    "def makedict(prefix, suffix):\n",
    "    '''take two lists and combine them into a dictionary of key value pairs\n",
    "    '''\n",
    "    if len(set(prefix)) != len(prefix):\n",
    "        return None\n",
    "    # nice way using :zip\n",
    "    # return dict(zip(prefix, suffix))\n",
    "\n",
    "    outputdict = {}\n",
    "    \n",
    "    \n",
    "    for i, p in enumerate(prefix):\n",
    "      \n",
    "       outputdict[p] = suffix[i]\n",
    "       \n",
    "\n",
    "    \n",
    "    return outputdict\n",
    "\n",
    "output = makedict(['dog','cat','mouse'], ['bone','fish','cheese'])\n",
    "\n",
    "print(output)\n",
    "\n",
    "    "
   ]
  },
  {
   "cell_type": "code",
   "execution_count": 57,
   "metadata": {
    "collapsed": false
   },
   "outputs": [
    {
     "name": "stdout",
     "output_type": "stream",
     "text": [
      "['AC50001', 'AC50002', 'AC51008', 'AC51002', 'AC51004', 'AC51003', 'AC51005', 'AC51010', 'AC51007', 'AC51001', 'AC51011', 'AC51009', 'AC52012', 'AC52001', 'AC52013', 'AC52008', 'AC52002', 'AC52009']\n",
      "Semester:  1\n",
      "AC50001  --  Introduction to Data Mining\n",
      "AC50002  --  Programming Languages for Data Engineering\n",
      "AC51008  --  Graphics\n",
      "AC51002  --  Software Development\n",
      "AC51004  --  Agile Engineering\n",
      "AC51003  --  Software Engineering\n",
      "AC51005  --  Technology Innovation Management\n",
      "AC51010  --  Computing the User Experience\n",
      "AC51007  --  Computer Vision\n",
      "AC51001  --  Internet and Computer Systems\n",
      "AC51011  --  Big Data Analysis\n",
      "AC51009  --  Multimedia Audio\n",
      "Semester:  2\n",
      "AC50001  --  Introduction to Data Mining\n",
      "AC50002  --  Programming Languages for Data Engineering\n",
      "AC52012  --  Research Methods\n",
      "AC52001  --  Database Systems\n",
      "AC52013  --  Human Computer Interaction and Usability Engineering\n",
      "AC52008  --  Research Frontiers (Computing)\n",
      "AC52002  --  Advanced Programming Techniques\n",
      "AC52009  --  Secure Internet Programming\n"
     ]
    }
   ],
   "source": [
    "\n",
    "moduledict = {\n",
    "'AC50001' : 'Introduction to Data Mining',\n",
    "'AC50002' : 'Programming Languages for Data Engineering',\n",
    "'AC51001' : 'Internet and Computer Systems',\n",
    "'AC51002' : 'Software Development',\n",
    "'AC51003' : 'Software Engineering',\n",
    "'AC51004' : 'Agile Engineering',\n",
    "'AC51005' : 'Technology Innovation Management',\n",
    "'AC51007' : 'Computer Vision',\n",
    "'AC51008' : 'Graphics',\n",
    "'AC51009' : 'Multimedia Audio',\n",
    "'AC51010' : 'Computing the User Experience',\n",
    "'AC51011' : 'Big Data Analysis',\n",
    "'AC52001' : 'Database Systems',\n",
    "'AC52002' : 'Advanced Programming Techniques',\n",
    "'AC52008' : 'Research Frontiers (Computing)',\n",
    "'AC52009' : 'Secure Internet Programming',\n",
    "'AC52012' : 'Research Methods',\n",
    "'AC52013' : 'Human Computer Interaction and Usability Engineering'\n",
    "}\n",
    "\n",
    "def modulesBySemester(modules):\n",
    "    '''take a dictionary and print modules for each semester.\n",
    "    second digit of module indicates semester, a 0 means in both\n",
    "    '''\n",
    "    # ideally: sortedModuleList = sorted(modulelist)\n",
    "    sortedModuleList = sorted(modules, key = lambda x: x[3:4])\n",
    "    print(sortedModuleList)\n",
    "    \n",
    "    for semester in range(1,3):\n",
    "        print (\"Semester: \", semester)\n",
    "        \n",
    "        for code in sortedModuleList:\n",
    "            \n",
    "            if (code[3:4] == str(0)) or (code[3:4] == str(semester)):\n",
    "                print(code, \" -- \", moduledict[code])\n",
    "            \n",
    "    \n",
    "    #print('semester', n)\n",
    "    \n",
    "    \n",
    "    \n",
    "    \n",
    "modulesBySemester(moduledict)\n",
    "    "
   ]
  },
  {
   "cell_type": "code",
   "execution_count": 42,
   "metadata": {
    "collapsed": false
   },
   "outputs": [
    {
     "name": "stdout",
     "output_type": "stream",
     "text": [
      "[7, 14, 21, 28, 35, 42, 49, 56, 63, 70, 77, 84, 91, 98]\n",
      "[6, 12, 18, 24, 30, 36, 42, 48, 54, 60, 66, 72, 78, 84, 90, 96]\n",
      "[9, 18, 27, 36, 45, 54, 63, 72, 81, 90, 99]\n",
      "{72, 18, 90, 36, 54}\n",
      "{70, 7, 72, 9, 77, 14, 81, 18, 84, 21, 90, 91, 28, 27, 98, 35, 99, 36, 42, 45, 49, 54, 56, 63}\n",
      "[18, 36, 54, 72, 90]\n",
      "42\n",
      "{11, 13, 17, 19, 22, 23, 26, 29, 31, 33, 34, 37, 38, 39, 41, 43, 44, 46, 47, 51, 52, 53, 55, 57, 58, 59, 61, 62, 65, 66, 67, 68, 69, 71, 73, 74, 75, 76, 77, 78, 79, 82, 83, 84, 85, 86, 87, 88, 89, 91, 92, 93, 94, 95, 96, 97, 98, 99}\n",
      "{5, 7, 10, 11, 13, 14, 15}\n"
     ]
    }
   ],
   "source": [
    "output7 = [sevenFactor for sevenFactor in range(1,100) if not(sevenFactor % 7)]\n",
    "# expected [7, 14, 21, 28, 35, 42, 49, 56, 63, 70, 77, 84, 91, 98]\n",
    "print(output7) \n",
    "\n",
    "output6 = [someFactor for someFactor in range(1,100) if not(someFactor % 6) ]\n",
    "# expected [6, 12, 18, 24, 30, 36, 42, 48, 54, 60, 66, 72, 78, 84, 90, 96]\n",
    "print(output6)\n",
    "\n",
    "output9 = [someFactor for someFactor in range(1,100) if not(someFactor % 9) ]\n",
    "# expected [9, 18, 27, 36, 45, 54, 63, 72, 81, 90, 99]\n",
    "print(output9)\n",
    "\n",
    "# set  notation:\n",
    "intersect69 = set(output6) &set(output9)\n",
    "print(intersect69)\n",
    "\n",
    "union79 = set(output7) | set(output9)\n",
    "# expected {70, 7, 72, 9, 77, 14, 81, 18, 84, 21, 90, 91, 28,\n",
    "# 27, 98, 35, 99, 36, 42, 45, 49, 54, 56, 63}\n",
    "print(union79)\n",
    "\n",
    "output6and9 = [someFactor for someFactor in range(1,100) if not(someFactor % 6) and not(someFactor % 9) ]\n",
    "# expected [18, 36, 54,  72, 90]\n",
    "print(output6and9) \n",
    "\n",
    "roll = list(range(1,11))\n",
    "\n",
    "twoDice = { a*b for a in roll for b in roll}\n",
    "# expected: 42\n",
    "print(len(twoDice))\n",
    "\n",
    "notTwoDice = set(set(range(1,101)) - twoDice)\n",
    "print(notTwoDice)\n",
    "\n",
    "def nonproducts(n):\n",
    "    '''list all numbers between 1 and n2 which are not the product pf two nums in range 1..n\n",
    "    '''\n",
    "    roll = list(range(1, n+1))\n",
    "    products = { a*b for a in roll for b in roll }\n",
    "    \n",
    "    nonprods = set(set(range(1, n*n + 1)) - products)\n",
    "    \n",
    "    return nonprods\n",
    "\n",
    "# test\n",
    "print(nonproducts(4))\n",
    "\n",
    "# expected {5,7,10,11,13,14,15}\n",
    "    \n",
    "    "
   ]
  },
  {
   "cell_type": "code",
   "execution_count": 3,
   "metadata": {
    "collapsed": false
   },
   "outputs": [
    {
     "name": "stdout",
     "output_type": "stream",
     "text": [
      "[(1, 'a'), (1, 'b'), (1, 'c'), (2, 'a'), (2, 'b'), (2, 'c')]\n"
     ]
    }
   ],
   "source": [
    "# wk7 lab\n",
    "def multlists(listA, listB):\n",
    "    '''takes two lists and returns a list of all elements seuqentially\n",
    "    combined into 2-tuple pairs. Output Length should be product of \n",
    "    listA and listB length\n",
    "    '''\n",
    "    # output = []\n",
    "    # crude way:\n",
    "    # for first in listA:\n",
    "    #     for second in listB:\n",
    "    #         output.append((first, second))\n",
    "    \n",
    "    # list comp way: \n",
    "    output = [(first, second) for first in listA for second in listB]\n",
    "    return output\n",
    "            \n",
    "\n",
    "# test\n",
    "# expect: [(1, 'a'), (1, 'b'), (1, 'c'), (2, 'a'), (2, 'b'), (2, 'c')]\n",
    "print (multlists([1,2], ['a','b','c']))"
   ]
  },
  {
   "cell_type": "code",
   "execution_count": 12,
   "metadata": {
    "collapsed": false
   },
   "outputs": [
    {
     "name": "stdout",
     "output_type": "stream",
     "text": [
      "D a\n",
      "D t\n",
      "D a\n",
      "a t\n",
      "a a\n",
      "t a\n"
     ]
    }
   ],
   "source": [
    "def subseq2(string):\n",
    "    '''print all 2 element subsequences of string in order'''\n",
    "    # nested for loop should be easier way of doing this\n",
    "    while len(string) > 1:\n",
    "        \n",
    "        current = string[0]\n",
    "        for i, x in enumerate(string):\n",
    "           \n",
    "            if( i > 0 ):\n",
    "                print(current, x)\n",
    "                \n",
    "        # advance along the string:\n",
    "        string = string[1:]\n",
    "        \n",
    "subseq2('Data')"
   ]
  },
  {
   "cell_type": "code",
   "execution_count": null,
   "metadata": {
    "collapsed": false
   },
   "outputs": [
    {
     "name": "stdout",
     "output_type": "stream",
     "text": [
      "f___s\n"
     ]
    }
   ],
   "source": [
    "def firstlastk(k = 1):\n",
    "    '''repeatedly prompt user for string and \n",
    "    print all string as underscores except first and last'''\n",
    "   \n",
    "    # test or input:\n",
    "    if given is None:\n",
    "        ######## given = input('Enter first string: ')\n",
    "    \n",
    "    if not len(given):\n",
    "        print('The end.')\n",
    "        return\n",
    "    \n",
    "    elif len(given) == 1:\n",
    "        print(given[0])\n",
    "        \n",
    "    else:\n",
    "        print(given[0] + '_' * len(given[1:-1]) + given[-1])\n",
    "        \n",
    "    given = input('Enter next string: ')\n",
    "    firstlast(given)\n",
    "    \n",
    "firstlast()\n"
   ]
  },
  {
   "cell_type": "code",
   "execution_count": 4,
   "metadata": {
    "collapsed": false
   },
   "outputs": [
    {
     "data": {
      "text/plain": [
       "12"
      ]
     },
     "execution_count": 4,
     "metadata": {},
     "output_type": "execute_result"
    }
   ],
   "source": [
    "def codes(string):\n",
    "   '''prints the ASCII character for every character in given string'''\n",
    "   ASC = [print(ord(x)) for x in string]\n",
    "   \n",
    "codes('cat') # 99 97 116\n",
    "\n",
    "def codesLoop(string):\n",
    "   '''prints the ASCII character for every character in given string'''\n",
    "   for asciiChar in string:\n",
    "        print(ord(asciiChar))\n",
    "        \n",
    "codesLoop('cat') # 99 97 116\n",
    "print(len(None))\n",
    "\n",
    "from pprint import pprint\n",
    "s = \"A man a plan a canal Panama\"\n",
    "print (s[::-1])\n",
    "x = 4\n",
    "pprint(x, indent = 2)\n",
    "\n",
    "\n",
    "def firstlast(given = None):\n",
    "    '''repeatedly prompt user for string and \n",
    "    print all string as underscores except first and last'''\n",
    "   \n",
    "    # test or input:\n",
    "    if given is None:\n",
    "        given = input('Enter first string: ')\n",
    "    \n",
    "    if not len(given):\n",
    "        print('The end.')\n",
    "        return\n",
    "    \n",
    "    elif len(given) == 1:\n",
    "        print(given[0])\n",
    "        \n",
    "    else:\n",
    "        print(given[0] + '_' * len(given[1:-1]) + given[-1])\n",
    "        \n",
    "    given = input('Enter next string: ')\n",
    "    \n",
    "    # recursively call function until they give up the ghost!\n",
    "    firstlast(given)\n",
    "    \n",
    "firstlast()"
   ]
  }
 ],
 "metadata": {
  "kernelspec": {
   "display_name": "Python 3",
   "language": "python",
   "name": "python3"
  },
  "language_info": {
   "codemirror_mode": {
    "name": "ipython",
    "version": 3
   },
   "file_extension": ".py",
   "mimetype": "text/x-python",
   "name": "python",
   "nbconvert_exporter": "python",
   "pygments_lexer": "ipython3",
   "version": "3.4.3"
  }
 },
 "nbformat": 4,
 "nbformat_minor": 0
}
